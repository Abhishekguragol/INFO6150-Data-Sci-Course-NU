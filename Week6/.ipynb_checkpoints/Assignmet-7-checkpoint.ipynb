{
 "cells": [
  {
   "cell_type": "code",
   "execution_count": 1,
   "metadata": {},
   "outputs": [],
   "source": [
    "%matplotlib inline\n",
    "import numpy as np\n",
    "import pandas as pd\n",
    "import matplotlib.pylab as plt\n",
    "import seaborn as sns\n",
    "sns.set_context('notebook')\n",
    "\n",
    "RANDOM_SEED = 20090425"
   ]
  },
  {
   "cell_type": "markdown",
   "metadata": {},
   "source": [
    "# Classical Statics"
   ]
  },
  {
   "cell_type": "code",
   "execution_count": 2,
   "metadata": {},
   "outputs": [
    {
     "data": {
      "text/html": [
       "<div>\n",
       "<style scoped>\n",
       "    .dataframe tbody tr th:only-of-type {\n",
       "        vertical-align: middle;\n",
       "    }\n",
       "\n",
       "    .dataframe tbody tr th {\n",
       "        vertical-align: top;\n",
       "    }\n",
       "\n",
       "    .dataframe thead th {\n",
       "        text-align: right;\n",
       "    }\n",
       "</style>\n",
       "<table border=\"1\" class=\"dataframe\">\n",
       "  <thead>\n",
       "    <tr style=\"text-align: right;\">\n",
       "      <th></th>\n",
       "      <th>Gender</th>\n",
       "      <th>Body-Temprature</th>\n",
       "      <th>Heart-Rate</th>\n",
       "    </tr>\n",
       "  </thead>\n",
       "  <tbody>\n",
       "    <tr>\n",
       "      <th>0</th>\n",
       "      <td>Male</td>\n",
       "      <td>96.7</td>\n",
       "      <td>71</td>\n",
       "    </tr>\n",
       "    <tr>\n",
       "      <th>1</th>\n",
       "      <td>Male</td>\n",
       "      <td>96.9</td>\n",
       "      <td>74</td>\n",
       "    </tr>\n",
       "    <tr>\n",
       "      <th>2</th>\n",
       "      <td>Male</td>\n",
       "      <td>97.0</td>\n",
       "      <td>80</td>\n",
       "    </tr>\n",
       "    <tr>\n",
       "      <th>3</th>\n",
       "      <td>Male</td>\n",
       "      <td>97.1</td>\n",
       "      <td>73</td>\n",
       "    </tr>\n",
       "    <tr>\n",
       "      <th>4</th>\n",
       "      <td>Male</td>\n",
       "      <td>97.1</td>\n",
       "      <td>75</td>\n",
       "    </tr>\n",
       "  </tbody>\n",
       "</table>\n",
       "</div>"
      ],
      "text/plain": [
       "  Gender  Body-Temprature  Heart-Rate\n",
       "0   Male             96.7          71\n",
       "1   Male             96.9          74\n",
       "2   Male             97.0          80\n",
       "3   Male             97.1          73\n",
       "4   Male             97.1          75"
      ]
     },
     "execution_count": 2,
     "metadata": {},
     "output_type": "execute_result"
    }
   ],
   "source": [
    "data = pd.read_csv('data.csv')\n",
    "data.head()"
   ]
  },
  {
   "cell_type": "code",
   "execution_count": 3,
   "metadata": {},
   "outputs": [],
   "source": [
    "from tokenize import group\n",
    "\n",
    "\n",
    "Male = pd.DataFrame(dict(bodyTemp=(96.7,96.9,97,97.1,97.1,97.1,97.2,97.3,97.4,97.4,97.4,97.4,97.5,97.5,97.6,97.6,97.6,97.7,97.8,97.8,97.8,97.8,97.9,97.9,98,98,\n",
    "98,98,98,98,98.1,98.1,98.2,98.2,98.2,98.2,98.3,98.3,98.4,98.4,98.4,98.4,98.5,98.5,98.6,98.6,98.6,98.6,98.6,98.6,98.7,98.7,98.8,98.8,98.8,98.9,99,99,99,99.1,99.2\n",
    ",99.3,99.4,99.5),group='Male'))\n",
    "\n",
    "Female = pd.DataFrame(dict(bodyTemp=(96.7,96.8,97.2,97.2,97.4,97.6,97.7,97.7,97.8,97.8,97.8,97.9,97.9,97.9,98,98,98,98,98,98.1,98.2,98.2,98.2,98.2,98.2,98.2,98.3,98.3,98.3,98.4,\n",
    "98.4,98.4,98.4,98.4,98.5,98.6,98.6,98.6,98.6,98.7,98.7,98.7,98.7,98.7,98.7,98.8,98.8,98.8,98.8,98.8,98.8,98.8,98.9,99,99,99.1,99.1,99.2,99.2,99.3,99.4,99.9,100),group='Female'))\n",
    "\n",
    "Male_Heart_Rate=pd.DataFrame(dict(bodyTemp=()));\n",
    "Female_Heart_Rate=pd.DataFrame(dict(bodyTemp=()));"
   ]
  },
  {
   "cell_type": "code",
   "execution_count": 4,
   "metadata": {},
   "outputs": [
    {
     "data": {
      "text/plain": [
       "array([<AxesSubplot:title={'center':'Female'}>,\n",
       "       <AxesSubplot:title={'center':'Male'}>], dtype=object)"
      ]
     },
     "execution_count": 4,
     "metadata": {},
     "output_type": "execute_result"
    },
    {
     "data": {
      "image/png": "[encoded data removed]",
      "text/plain": [
       "<Figure size 432x288 with 2 Axes>"
      ]
     },
     "metadata": {
      "needs_background": "light"
     },
     "output_type": "display_data"
    }
   ],
   "source": [
    "from tokenize import group\n",
    "trial_data = pd.concat([Male, Female], ignore_index=True)\n",
    "trial_data.hist('bodyTemp', by='group')"
   ]
  },
  {
   "cell_type": "markdown",
   "metadata": {},
   "source": [
    "### T-test for comparind Male/Female body-Temprature outcomes"
   ]
  },
  {
   "cell_type": "code",
   "execution_count": 5,
   "metadata": {},
   "outputs": [
    {
     "name": "stdout",
     "output_type": "stream",
     "text": [
      "64\n",
      "63\n",
      "98.13281250000003\n",
      "98.38730158730158\n",
      "98.25905511811025\n",
      "0.6659650325679076\n"
     ]
    },
    {
     "data": {
      "text/plain": [
       "Ttest_indResult(statistic=-2.1907813887342162, pvalue=0.03032218960499328)"
      ]
     },
     "execution_count": 5,
     "metadata": {},
     "output_type": "execute_result"
    }
   ],
   "source": [
    "import scipy.stats as stats\n",
    "combined_temp = np.concatenate((Male.bodyTemp, Female.bodyTemp))\n",
    "print(len(Male.bodyTemp))\n",
    "print(len(Female.bodyTemp))\n",
    "print( Male.bodyTemp.mean() )\n",
    "print( Female.bodyTemp.mean() )\n",
    "print( combined_temp.mean() )\n",
    "print(Male.bodyTemp.std())\n",
    "stats.ttest_ind(a= Male.bodyTemp,\n",
    "                b= Female.bodyTemp,\n",
    "                equal_var=True) "
   ]
  },
  {
   "cell_type": "markdown",
   "metadata": {},
   "source": [
    "# Bayesian Statitcs"
   ]
  },
  {
   "cell_type": "code",
   "execution_count": 1,
   "metadata": {},
   "outputs": [
    {
     "name": "stdout",
     "output_type": "stream",
     "text": [
      "Collecting pymc3\n",
      "  Downloading pymc3-3.11.5-py3-none-any.whl (872 kB)\n",
      "\u001b[K     |████████████████████████████████| 872 kB 3.1 MB/s eta 0:00:01\n",
      "\u001b[?25hRequirement already satisfied: patsy>=0.5.1 in /Users/abhishekguragol/opt/anaconda3/lib/python3.9/site-packages (from pymc3) (0.5.2)\n",
      "Requirement already satisfied: scipy<1.8.0,>=1.7.3 in /Users/abhishekguragol/opt/anaconda3/lib/python3.9/site-packages (from pymc3) (1.7.3)\n",
      "Requirement already satisfied: cachetools>=4.2.1 in /Users/abhishekguragol/opt/anaconda3/lib/python3.9/site-packages (from pymc3) (4.2.2)\n",
      "Collecting fastprogress>=0.2.0\n",
      "  Downloading fastprogress-1.0.3-py3-none-any.whl (12 kB)\n",
      "Requirement already satisfied: pandas>=0.24.0 in /Users/abhishekguragol/opt/anaconda3/lib/python3.9/site-packages (from pymc3) (1.4.2)\n",
      "Collecting semver>=2.13.0\n",
      "  Downloading semver-2.13.0-py2.py3-none-any.whl (12 kB)\n",
      "Collecting arviz>=0.11.0\n",
      "  Downloading arviz-0.13.0-py3-none-any.whl (1.7 MB)\n",
      "\u001b[K     |████████████████████████████████| 1.7 MB 82.2 MB/s eta 0:00:01\n",
      "\u001b[?25hRequirement already satisfied: typing-extensions>=3.7.4 in /Users/abhishekguragol/opt/anaconda3/lib/python3.9/site-packages (from pymc3) (4.1.1)\n",
      "Collecting dill\n",
      "  Downloading dill-0.3.6-py3-none-any.whl (110 kB)\n",
      "\u001b[K     |████████████████████████████████| 110 kB 20.3 MB/s eta 0:00:01\n",
      "\u001b[?25hCollecting theano-pymc==1.1.2\n",
      "  Downloading Theano-PyMC-1.1.2.tar.gz (1.8 MB)\n",
      "\u001b[K     |████████████████████████████████| 1.8 MB 59.6 MB/s eta 0:00:01\n",
      "\u001b[?25hRequirement already satisfied: numpy<1.22.2,>=1.15.0 in /Users/abhishekguragol/opt/anaconda3/lib/python3.9/site-packages (from pymc3) (1.21.5)\n",
      "Collecting deprecat\n",
      "  Downloading deprecat-2.1.1-py2.py3-none-any.whl (9.8 kB)\n",
      "Requirement already satisfied: filelock in /Users/abhishekguragol/opt/anaconda3/lib/python3.9/site-packages (from theano-pymc==1.1.2->pymc3) (3.6.0)\n",
      "Collecting xarray>=0.21.0\n",
      "  Downloading xarray-2022.10.0-py3-none-any.whl (947 kB)\n",
      "\u001b[K     |████████████████████████████████| 947 kB 95.2 MB/s eta 0:00:01\n",
      "\u001b[?25hCollecting xarray-einstats>=0.3\n",
      "  Downloading xarray_einstats-0.3.0-py3-none-any.whl (34 kB)\n",
      "Requirement already satisfied: setuptools>=60.0.0 in /Users/abhishekguragol/opt/anaconda3/lib/python3.9/site-packages (from arviz>=0.11.0->pymc3) (61.2.0)\n",
      "Collecting arviz>=0.11.0\n",
      "  Downloading arviz-0.12.1-py3-none-any.whl (1.6 MB)\n",
      "\u001b[K     |████████████████████████████████| 1.6 MB 113.7 MB/s eta 0:00:01\n",
      "\u001b[?25hRequirement already satisfied: matplotlib>=3.0 in /Users/abhishekguragol/opt/anaconda3/lib/python3.9/site-packages (from arviz>=0.11.0->pymc3) (3.5.1)\n",
      "Collecting netcdf4\n",
      "  Downloading netCDF4-1.6.1-cp39-cp39-macosx_10_9_x86_64.whl (4.1 MB)\n",
      "\u001b[K     |████████████████████████████████| 4.1 MB 107.1 MB/s eta 0:00:01\n",
      "\u001b[?25hRequirement already satisfied: xarray>=0.16.1 in /Users/abhishekguragol/opt/anaconda3/lib/python3.9/site-packages (from arviz>=0.11.0->pymc3) (0.20.1)\n",
      "Requirement already satisfied: packaging in /Users/abhishekguragol/opt/anaconda3/lib/python3.9/site-packages (from arviz>=0.11.0->pymc3) (21.3)\n",
      "Requirement already satisfied: python-dateutil>=2.7 in /Users/abhishekguragol/opt/anaconda3/lib/python3.9/site-packages (from matplotlib>=3.0->arviz>=0.11.0->pymc3) (2.8.2)\n",
      "Requirement already satisfied: pyparsing>=2.2.1 in /Users/abhishekguragol/opt/anaconda3/lib/python3.9/site-packages (from matplotlib>=3.0->arviz>=0.11.0->pymc3) (3.0.4)\n",
      "Requirement already satisfied: pillow>=6.2.0 in /Users/abhishekguragol/opt/anaconda3/lib/python3.9/site-packages (from matplotlib>=3.0->arviz>=0.11.0->pymc3) (9.0.1)\n",
      "Requirement already satisfied: kiwisolver>=1.0.1 in /Users/abhishekguragol/opt/anaconda3/lib/python3.9/site-packages (from matplotlib>=3.0->arviz>=0.11.0->pymc3) (1.3.2)\n",
      "Requirement already satisfied: fonttools>=4.22.0 in /Users/abhishekguragol/opt/anaconda3/lib/python3.9/site-packages (from matplotlib>=3.0->arviz>=0.11.0->pymc3) (4.25.0)\n",
      "Requirement already satisfied: cycler>=0.10 in /Users/abhishekguragol/opt/anaconda3/lib/python3.9/site-packages (from matplotlib>=3.0->arviz>=0.11.0->pymc3) (0.11.0)\n",
      "Requirement already satisfied: pytz>=2020.1 in /Users/abhishekguragol/opt/anaconda3/lib/python3.9/site-packages (from pandas>=0.24.0->pymc3) (2021.3)\n",
      "Requirement already satisfied: six in /Users/abhishekguragol/opt/anaconda3/lib/python3.9/site-packages (from patsy>=0.5.1->pymc3) (1.16.0)\n",
      "Requirement already satisfied: wrapt<2,>=1.10 in /Users/abhishekguragol/opt/anaconda3/lib/python3.9/site-packages (from deprecat->pymc3) (1.12.1)\n",
      "Collecting cftime\n",
      "  Downloading cftime-1.6.2-cp39-cp39-macosx_10_9_x86_64.whl (260 kB)\n",
      "\u001b[K     |████████████████████████████████| 260 kB 45.7 MB/s eta 0:00:01\n",
      "\u001b[?25hBuilding wheels for collected packages: theano-pymc\n",
      "  Building wheel for theano-pymc (setup.py) ... \u001b[?25ldone\n",
      "\u001b[?25h  Created wheel for theano-pymc: filename=Theano_PyMC-1.1.2-py3-none-any.whl size=1529963 sha256=8d8e0b9e260c37c2ee7267d7cbdebdceed555cfbb54e39fc29926209074316f3\n",
      "  Stored in directory: /Users/abhishekguragol/Library/Caches/pip/wheels/04/22/4d/832878ba2fe9ea3543f0189b9288a78e4aa4e0afc851a6890c\n",
      "Successfully built theano-pymc\n",
      "Installing collected packages: cftime, xarray-einstats, netcdf4, theano-pymc, semver, fastprogress, dill, deprecat, arviz, pymc3\n",
      "Successfully installed arviz-0.12.1 cftime-1.6.2 deprecat-2.1.1 dill-0.3.6 fastprogress-1.0.3 netcdf4-1.6.1 pymc3-3.11.5 semver-2.13.0 theano-pymc-1.1.2 xarray-einstats-0.3.0\n",
      "Note: you may need to restart the kernel to use updated packages.\n"
     ]
    }
   ],
   "source": [
    "pip install pymc3"
   ]
  },
  {
   "cell_type": "code",
   "execution_count": 6,
   "metadata": {},
   "outputs": [
    {
     "ename": "ModuleNotFoundError",
     "evalue": "No module named 'pymc3'",
     "output_type": "error",
     "traceback": [
      "\u001b[1;31m---------------------------------------------------------------------------\u001b[0m",
      "\u001b[1;31mModuleNotFoundError\u001b[0m                       Traceback (most recent call last)",
      "\u001b[1;32mc:\\Users\\Pranav\\Desktop\\Info 6100 Assignment\\Week-7\\Assignmet-7.ipynb Cell 9\u001b[0m in \u001b[0;36m<cell line: 1>\u001b[1;34m()\u001b[0m\n\u001b[1;32m----> <a href='vscode-notebook-cell:/c%3A/Users/Pranav/Desktop/Info%206100%20Assignment/Week-7/Assignmet-7.ipynb#X12sZmlsZQ%3D%3D?line=0'>1</a>\u001b[0m \u001b[39mfrom\u001b[39;00m \u001b[39mpymc3\u001b[39;00m \u001b[39mimport\u001b[39;00m Model, Normal\n\u001b[0;32m      <a href='vscode-notebook-cell:/c%3A/Users/Pranav/Desktop/Info%206100%20Assignment/Week-7/Assignmet-7.ipynb#X12sZmlsZQ%3D%3D?line=1'>2</a>\u001b[0m \u001b[39mwith\u001b[39;00m Model() \u001b[39mas\u001b[39;00m Temprature_model:\n\u001b[0;32m      <a href='vscode-notebook-cell:/c%3A/Users/Pranav/Desktop/Info%206100%20Assignment/Week-7/Assignmet-7.ipynb#X12sZmlsZQ%3D%3D?line=2'>3</a>\u001b[0m     μ_0 \u001b[39m=\u001b[39m Normal(\u001b[39m'\u001b[39m\u001b[39mμ_0\u001b[39m\u001b[39m'\u001b[39m, \u001b[39m100\u001b[39m, sd\u001b[39m=\u001b[39m\u001b[39m10\u001b[39m)\n",
      "\u001b[1;31mModuleNotFoundError\u001b[0m: No module named 'pymc3'"
     ]
    }
   ],
   "source": [
    "from pymc3 import Model, Normal\n",
    "with Model() as Temprature_model:\n",
    "    μ_0 = Normal('μ_0', 100, sd=10)\n",
    "    μ_1 = Normal('μ_1', 100, sd=10)"
   ]
  },
  {
   "cell_type": "code",
   "execution_count": null,
   "metadata": {},
   "outputs": [],
   "source": [
    "from pymc3 import Model, Uniform\n",
    "with Model() as Temprature_model:\n",
    "    σ_0 = Uniform('σ_0', lower=1, upper=10)\n",
    "    σ_1 = Uniform('σ_1', lower=1, upper=10)"
   ]
  },
  {
   "cell_type": "code",
   "execution_count": null,
   "metadata": {},
   "outputs": [],
   "source": [
    "from pymc3 import Model, Uniform\n",
    "with Model() as Temprature_model:\n",
    "    ν = Normal('ν', 100,sd=5) "
   ]
  },
  {
   "cell_type": "code",
   "execution_count": null,
   "metadata": {},
   "outputs": [
    {
     "name": "stderr",
     "output_type": "stream",
     "text": [
      "c:\\Users\\Pranav\\AppData\\Local\\Programs\\Python\\Python310\\lib\\site-packages\\pymc3\\distributions\\continuous.py:138: UserWarning: The variable specified for nu has negative support for StudentT, likely making it unsuitable for this parameter.\n",
      "  warnings.warn(msg)\n"
     ]
    }
   ],
   "source": [
    "from pymc3 import StudentT\n",
    "with Temprature_model:\n",
    "    Male = StudentT('Temprature_Male', nu=ν, mu=μ_1, lam=σ_1**2,observed= Male.bodyTemp)\n",
    "    Female = StudentT('Temprature_Female', nu=ν, mu=μ_0, lam=σ_0**2,observed= Female.bodyTemp)"
   ]
  },
  {
   "cell_type": "code",
   "execution_count": null,
   "metadata": {},
   "outputs": [],
   "source": [
    "from pymc3 import Deterministic\n",
    "    \n",
    "with Temprature_model:\n",
    "    diff_of_means = Deterministic('difference of means', μ_1 - μ_0)\n",
    "    effect_size = Deterministic('effect size', diff_of_means / np.sqrt((σ_1**2 + σ_0**2) / 2))"
   ]
  },
  {
   "cell_type": "code",
   "execution_count": null,
   "metadata": {},
   "outputs": [
    {
     "ename": "MissingInputError",
     "evalue": "Input 0 of the graph (indices start from 0), used to compute InplaceDimShuffle{x}(μ_0), was not provided and not given a value. Use the Theano flag exception_verbosity='high', for more information on this error.",
     "output_type": "error",
     "traceback": [
      "\u001b[1;31m---------------------------------------------------------------------------\u001b[0m",
      "\u001b[1;31mMissingInputError\u001b[0m                         Traceback (most recent call last)",
      "Cell \u001b[1;32mIn [68], line 4\u001b[0m\n\u001b[0;32m      1\u001b[0m \u001b[39mfrom\u001b[39;00m \u001b[39mpymc3\u001b[39;00m \u001b[39mimport\u001b[39;00m fit\n\u001b[0;32m      3\u001b[0m \u001b[39mwith\u001b[39;00m Temprature_model: \n\u001b[1;32m----> 4\u001b[0m     Temp_fit \u001b[39m=\u001b[39m fit(random_seed\u001b[39m=\u001b[39mRANDOM_SEED)\u001b[39m.\u001b[39msample(\u001b[39m1000\u001b[39m)\n",
      "File \u001b[1;32mc:\\Users\\Pranav\\AppData\\Local\\Programs\\Python\\Python310\\lib\\site-packages\\pymc3\\variational\\inference.py:832\u001b[0m, in \u001b[0;36mfit\u001b[1;34m(n, local_rv, method, model, random_seed, start, inf_kwargs, **kwargs)\u001b[0m\n\u001b[0;32m    830\u001b[0m \u001b[39melse\u001b[39;00m:\n\u001b[0;32m    831\u001b[0m     \u001b[39mraise\u001b[39;00m \u001b[39mTypeError\u001b[39;00m(\u001b[39mf\u001b[39m\u001b[39m\"\u001b[39m\u001b[39mmethod should be one of \u001b[39m\u001b[39m{\u001b[39;00m\u001b[39mset\u001b[39m(_select\u001b[39m.\u001b[39mkeys())\u001b[39m}\u001b[39;00m\u001b[39m or Inference instance\u001b[39m\u001b[39m\"\u001b[39m)\n\u001b[1;32m--> 832\u001b[0m \u001b[39mreturn\u001b[39;00m inference\u001b[39m.\u001b[39mfit(n, \u001b[39m*\u001b[39m\u001b[39m*\u001b[39mkwargs)\n",
      "File \u001b[1;32mc:\\Users\\Pranav\\AppData\\Local\\Programs\\Python\\Python310\\lib\\site-packages\\pymc3\\variational\\inference.py:144\u001b[0m, in \u001b[0;36mInference.fit\u001b[1;34m(self, n, score, callbacks, progressbar, **kwargs)\u001b[0m\n\u001b[0;32m    142\u001b[0m     callbacks \u001b[39m=\u001b[39m []\n\u001b[0;32m    143\u001b[0m score \u001b[39m=\u001b[39m \u001b[39mself\u001b[39m\u001b[39m.\u001b[39m_maybe_score(score)\n\u001b[1;32m--> 144\u001b[0m step_func \u001b[39m=\u001b[39m \u001b[39mself\u001b[39m\u001b[39m.\u001b[39mobjective\u001b[39m.\u001b[39mstep_function(score\u001b[39m=\u001b[39mscore, \u001b[39m*\u001b[39m\u001b[39m*\u001b[39mkwargs)\n\u001b[0;32m    145\u001b[0m \u001b[39mif\u001b[39;00m progressbar:\n\u001b[0;32m    146\u001b[0m     progress \u001b[39m=\u001b[39m progress_bar(\u001b[39mrange\u001b[39m(n), display\u001b[39m=\u001b[39mprogressbar)\n",
      "File \u001b[1;32mc:\\Users\\Pranav\\AppData\\Local\\Programs\\Python\\Python310\\lib\\site-packages\\theano\\configparser.py:48\u001b[0m, in \u001b[0;36m_ChangeFlagsDecorator.__call__.<locals>.res\u001b[1;34m(*args, **kwargs)\u001b[0m\n\u001b[0;32m     45\u001b[0m \u001b[39m@wraps\u001b[39m(f)\n\u001b[0;32m     46\u001b[0m \u001b[39mdef\u001b[39;00m \u001b[39mres\u001b[39m(\u001b[39m*\u001b[39margs, \u001b[39m*\u001b[39m\u001b[39m*\u001b[39mkwargs):\n\u001b[0;32m     47\u001b[0m     \u001b[39mwith\u001b[39;00m \u001b[39mself\u001b[39m:\n\u001b[1;32m---> 48\u001b[0m         \u001b[39mreturn\u001b[39;00m f(\u001b[39m*\u001b[39margs, \u001b[39m*\u001b[39m\u001b[39m*\u001b[39mkwargs)\n",
      "File \u001b[1;32mc:\\Users\\Pranav\\AppData\\Local\\Programs\\Python\\Python310\\lib\\site-packages\\pymc3\\variational\\opvi.py:363\u001b[0m, in \u001b[0;36mObjectiveFunction.step_function\u001b[1;34m(self, obj_n_mc, tf_n_mc, obj_optimizer, test_optimizer, more_obj_params, more_tf_params, more_updates, more_replacements, total_grad_norm_constraint, score, fn_kwargs)\u001b[0m\n\u001b[0;32m    351\u001b[0m updates \u001b[39m=\u001b[39m \u001b[39mself\u001b[39m\u001b[39m.\u001b[39mupdates(\n\u001b[0;32m    352\u001b[0m     obj_n_mc\u001b[39m=\u001b[39mobj_n_mc,\n\u001b[0;32m    353\u001b[0m     tf_n_mc\u001b[39m=\u001b[39mtf_n_mc,\n\u001b[1;32m   (...)\u001b[0m\n\u001b[0;32m    360\u001b[0m     total_grad_norm_constraint\u001b[39m=\u001b[39mtotal_grad_norm_constraint,\n\u001b[0;32m    361\u001b[0m )\n\u001b[0;32m    362\u001b[0m \u001b[39mif\u001b[39;00m score:\n\u001b[1;32m--> 363\u001b[0m     step_fn \u001b[39m=\u001b[39m theano\u001b[39m.\u001b[39mfunction([], updates\u001b[39m.\u001b[39mloss, updates\u001b[39m=\u001b[39mupdates, \u001b[39m*\u001b[39m\u001b[39m*\u001b[39mfn_kwargs)\n\u001b[0;32m    364\u001b[0m \u001b[39melse\u001b[39;00m:\n\u001b[0;32m    365\u001b[0m     step_fn \u001b[39m=\u001b[39m theano\u001b[39m.\u001b[39mfunction([], \u001b[39mNone\u001b[39;00m, updates\u001b[39m=\u001b[39mupdates, \u001b[39m*\u001b[39m\u001b[39m*\u001b[39mfn_kwargs)\n",
      "File \u001b[1;32mc:\\Users\\Pranav\\AppData\\Local\\Programs\\Python\\Python310\\lib\\site-packages\\theano\\compile\\function\\__init__.py:337\u001b[0m, in \u001b[0;36mfunction\u001b[1;34m(inputs, outputs, mode, updates, givens, no_default_updates, accept_inplace, name, rebuild_strict, allow_input_downcast, profile, on_unused_input)\u001b[0m\n\u001b[0;32m    331\u001b[0m     fn \u001b[39m=\u001b[39m orig_function(\n\u001b[0;32m    332\u001b[0m         inputs, outputs, mode\u001b[39m=\u001b[39mmode, accept_inplace\u001b[39m=\u001b[39maccept_inplace, name\u001b[39m=\u001b[39mname\n\u001b[0;32m    333\u001b[0m     )\n\u001b[0;32m    334\u001b[0m \u001b[39melse\u001b[39;00m:\n\u001b[0;32m    335\u001b[0m     \u001b[39m# note: pfunc will also call orig_function -- orig_function is\u001b[39;00m\n\u001b[0;32m    336\u001b[0m     \u001b[39m#      a choke point that all compilation must pass through\u001b[39;00m\n\u001b[1;32m--> 337\u001b[0m     fn \u001b[39m=\u001b[39m pfunc(\n\u001b[0;32m    338\u001b[0m         params\u001b[39m=\u001b[39;49minputs,\n\u001b[0;32m    339\u001b[0m         outputs\u001b[39m=\u001b[39;49moutputs,\n\u001b[0;32m    340\u001b[0m         mode\u001b[39m=\u001b[39;49mmode,\n\u001b[0;32m    341\u001b[0m         updates\u001b[39m=\u001b[39;49mupdates,\n\u001b[0;32m    342\u001b[0m         givens\u001b[39m=\u001b[39;49mgivens,\n\u001b[0;32m    343\u001b[0m         no_default_updates\u001b[39m=\u001b[39;49mno_default_updates,\n\u001b[0;32m    344\u001b[0m         accept_inplace\u001b[39m=\u001b[39;49maccept_inplace,\n\u001b[0;32m    345\u001b[0m         name\u001b[39m=\u001b[39;49mname,\n\u001b[0;32m    346\u001b[0m         rebuild_strict\u001b[39m=\u001b[39;49mrebuild_strict,\n\u001b[0;32m    347\u001b[0m         allow_input_downcast\u001b[39m=\u001b[39;49mallow_input_downcast,\n\u001b[0;32m    348\u001b[0m         on_unused_input\u001b[39m=\u001b[39;49mon_unused_input,\n\u001b[0;32m    349\u001b[0m         profile\u001b[39m=\u001b[39;49mprofile,\n\u001b[0;32m    350\u001b[0m         output_keys\u001b[39m=\u001b[39;49moutput_keys,\n\u001b[0;32m    351\u001b[0m     )\n\u001b[0;32m    352\u001b[0m \u001b[39mreturn\u001b[39;00m fn\n",
      "File \u001b[1;32mc:\\Users\\Pranav\\AppData\\Local\\Programs\\Python\\Python310\\lib\\site-packages\\theano\\compile\\function\\pfunc.py:524\u001b[0m, in \u001b[0;36mpfunc\u001b[1;34m(params, outputs, mode, updates, givens, no_default_updates, accept_inplace, name, rebuild_strict, allow_input_downcast, profile, on_unused_input, output_keys)\u001b[0m\n\u001b[0;32m    519\u001b[0m         si \u001b[39m=\u001b[39m In(\n\u001b[0;32m    520\u001b[0m             variable\u001b[39m=\u001b[39msv, value\u001b[39m=\u001b[39msv\u001b[39m.\u001b[39mcontainer, mutable\u001b[39m=\u001b[39m\u001b[39mFalse\u001b[39;00m, borrow\u001b[39m=\u001b[39m\u001b[39mTrue\u001b[39;00m, shared\u001b[39m=\u001b[39m\u001b[39mTrue\u001b[39;00m\n\u001b[0;32m    521\u001b[0m         )\n\u001b[0;32m    522\u001b[0m     inputs\u001b[39m.\u001b[39mappend(si)\n\u001b[1;32m--> 524\u001b[0m \u001b[39mreturn\u001b[39;00m orig_function(\n\u001b[0;32m    525\u001b[0m     inputs,\n\u001b[0;32m    526\u001b[0m     cloned_outputs,\n\u001b[0;32m    527\u001b[0m     mode,\n\u001b[0;32m    528\u001b[0m     accept_inplace\u001b[39m=\u001b[39;49maccept_inplace,\n\u001b[0;32m    529\u001b[0m     name\u001b[39m=\u001b[39;49mname,\n\u001b[0;32m    530\u001b[0m     profile\u001b[39m=\u001b[39;49mprofile,\n\u001b[0;32m    531\u001b[0m     on_unused_input\u001b[39m=\u001b[39;49mon_unused_input,\n\u001b[0;32m    532\u001b[0m     output_keys\u001b[39m=\u001b[39;49moutput_keys,\n\u001b[0;32m    533\u001b[0m )\n",
      "File \u001b[1;32mc:\\Users\\Pranav\\AppData\\Local\\Programs\\Python\\Python310\\lib\\site-packages\\theano\\compile\\function\\types.py:1970\u001b[0m, in \u001b[0;36morig_function\u001b[1;34m(inputs, outputs, mode, accept_inplace, name, profile, on_unused_input, output_keys)\u001b[0m\n\u001b[0;32m   1968\u001b[0m \u001b[39mtry\u001b[39;00m:\n\u001b[0;32m   1969\u001b[0m     Maker \u001b[39m=\u001b[39m \u001b[39mgetattr\u001b[39m(mode, \u001b[39m\"\u001b[39m\u001b[39mfunction_maker\u001b[39m\u001b[39m\"\u001b[39m, FunctionMaker)\n\u001b[1;32m-> 1970\u001b[0m     m \u001b[39m=\u001b[39m Maker(\n\u001b[0;32m   1971\u001b[0m         inputs,\n\u001b[0;32m   1972\u001b[0m         outputs,\n\u001b[0;32m   1973\u001b[0m         mode,\n\u001b[0;32m   1974\u001b[0m         accept_inplace\u001b[39m=\u001b[39;49maccept_inplace,\n\u001b[0;32m   1975\u001b[0m         profile\u001b[39m=\u001b[39;49mprofile,\n\u001b[0;32m   1976\u001b[0m         on_unused_input\u001b[39m=\u001b[39;49mon_unused_input,\n\u001b[0;32m   1977\u001b[0m         output_keys\u001b[39m=\u001b[39;49moutput_keys,\n\u001b[0;32m   1978\u001b[0m         name\u001b[39m=\u001b[39;49mname,\n\u001b[0;32m   1979\u001b[0m     )\n\u001b[0;32m   1980\u001b[0m     \u001b[39mwith\u001b[39;00m config\u001b[39m.\u001b[39mchange_flags(compute_test_value\u001b[39m=\u001b[39m\u001b[39m\"\u001b[39m\u001b[39moff\u001b[39m\u001b[39m\"\u001b[39m):\n\u001b[0;32m   1981\u001b[0m         fn \u001b[39m=\u001b[39m m\u001b[39m.\u001b[39mcreate(defaults)\n",
      "File \u001b[1;32mc:\\Users\\Pranav\\AppData\\Local\\Programs\\Python\\Python310\\lib\\site-packages\\theano\\compile\\function\\types.py:1584\u001b[0m, in \u001b[0;36mFunctionMaker.__init__\u001b[1;34m(self, inputs, outputs, mode, accept_inplace, function_builder, profile, on_unused_input, fgraph, output_keys, name)\u001b[0m\n\u001b[0;32m   1581\u001b[0m     need_opt \u001b[39m=\u001b[39m \u001b[39mTrue\u001b[39;00m\n\u001b[0;32m   1582\u001b[0m     \u001b[39m# make the fgraph (copies the graph, creates NEW INPUT AND\u001b[39;00m\n\u001b[0;32m   1583\u001b[0m     \u001b[39m# OUTPUT VARIABLES)\u001b[39;00m\n\u001b[1;32m-> 1584\u001b[0m     fgraph, additional_outputs \u001b[39m=\u001b[39m std_fgraph(inputs, outputs, accept_inplace)\n\u001b[0;32m   1585\u001b[0m     fgraph\u001b[39m.\u001b[39mprofile \u001b[39m=\u001b[39m profile\n\u001b[0;32m   1586\u001b[0m \u001b[39melse\u001b[39;00m:\n\u001b[0;32m   1587\u001b[0m     \u001b[39m# fgraph is already an optimized one\u001b[39;00m\n",
      "File \u001b[1;32mc:\\Users\\Pranav\\AppData\\Local\\Programs\\Python\\Python310\\lib\\site-packages\\theano\\compile\\function\\types.py:188\u001b[0m, in \u001b[0;36mstd_fgraph\u001b[1;34m(input_specs, output_specs, accept_inplace)\u001b[0m\n\u001b[0;32m    184\u001b[0m         out_idx \u001b[39m+\u001b[39m\u001b[39m=\u001b[39m \u001b[39m1\u001b[39m\n\u001b[0;32m    186\u001b[0m orig_outputs \u001b[39m=\u001b[39m [spec\u001b[39m.\u001b[39mvariable \u001b[39mfor\u001b[39;00m spec \u001b[39min\u001b[39;00m output_specs] \u001b[39m+\u001b[39m updates\n\u001b[1;32m--> 188\u001b[0m fgraph \u001b[39m=\u001b[39m FunctionGraph(orig_inputs, orig_outputs, update_mapping\u001b[39m=\u001b[39;49mupdate_mapping)\n\u001b[0;32m    190\u001b[0m \u001b[39mfor\u001b[39;00m node \u001b[39min\u001b[39;00m fgraph\u001b[39m.\u001b[39mapply_nodes:\n\u001b[0;32m    191\u001b[0m     \u001b[39mif\u001b[39;00m \u001b[39mgetattr\u001b[39m(node\u001b[39m.\u001b[39mop, \u001b[39m\"\u001b[39m\u001b[39mdestroy_map\u001b[39m\u001b[39m\"\u001b[39m, \u001b[39mNone\u001b[39;00m):\n",
      "File \u001b[1;32mc:\\Users\\Pranav\\AppData\\Local\\Programs\\Python\\Python310\\lib\\site-packages\\theano\\graph\\fg.py:162\u001b[0m, in \u001b[0;36mFunctionGraph.__init__\u001b[1;34m(self, inputs, outputs, features, clone, update_mapping)\u001b[0m\n\u001b[0;32m    159\u001b[0m     \u001b[39mself\u001b[39m\u001b[39m.\u001b[39madd_input(in_var, check\u001b[39m=\u001b[39m\u001b[39mFalse\u001b[39;00m)\n\u001b[0;32m    161\u001b[0m \u001b[39mfor\u001b[39;00m output \u001b[39min\u001b[39;00m outputs:\n\u001b[1;32m--> 162\u001b[0m     \u001b[39mself\u001b[39;49m\u001b[39m.\u001b[39;49mimport_var(output, reason\u001b[39m=\u001b[39;49m\u001b[39m\"\u001b[39;49m\u001b[39minit\u001b[39;49m\u001b[39m\"\u001b[39;49m)\n\u001b[0;32m    163\u001b[0m \u001b[39mfor\u001b[39;00m i, output \u001b[39min\u001b[39;00m \u001b[39menumerate\u001b[39m(outputs):\n\u001b[0;32m    164\u001b[0m     \u001b[39mself\u001b[39m\u001b[39m.\u001b[39mclients[output]\u001b[39m.\u001b[39mappend((\u001b[39m\"\u001b[39m\u001b[39moutput\u001b[39m\u001b[39m\"\u001b[39m, i))\n",
      "File \u001b[1;32mc:\\Users\\Pranav\\AppData\\Local\\Programs\\Python\\Python310\\lib\\site-packages\\theano\\graph\\fg.py:330\u001b[0m, in \u001b[0;36mFunctionGraph.import_var\u001b[1;34m(self, var, reason)\u001b[0m\n\u001b[0;32m    328\u001b[0m \u001b[39m# Imports the owners of the variables\u001b[39;00m\n\u001b[0;32m    329\u001b[0m \u001b[39mif\u001b[39;00m var\u001b[39m.\u001b[39mowner \u001b[39mand\u001b[39;00m var\u001b[39m.\u001b[39mowner \u001b[39mnot\u001b[39;00m \u001b[39min\u001b[39;00m \u001b[39mself\u001b[39m\u001b[39m.\u001b[39mapply_nodes:\n\u001b[1;32m--> 330\u001b[0m     \u001b[39mself\u001b[39;49m\u001b[39m.\u001b[39;49mimport_node(var\u001b[39m.\u001b[39;49mowner, reason\u001b[39m=\u001b[39;49mreason)\n\u001b[0;32m    331\u001b[0m \u001b[39melif\u001b[39;00m (\n\u001b[0;32m    332\u001b[0m     var\u001b[39m.\u001b[39mowner \u001b[39mis\u001b[39;00m \u001b[39mNone\u001b[39;00m\n\u001b[0;32m    333\u001b[0m     \u001b[39mand\u001b[39;00m \u001b[39mnot\u001b[39;00m \u001b[39misinstance\u001b[39m(var, Constant)\n\u001b[0;32m    334\u001b[0m     \u001b[39mand\u001b[39;00m var \u001b[39mnot\u001b[39;00m \u001b[39min\u001b[39;00m \u001b[39mself\u001b[39m\u001b[39m.\u001b[39minputs\n\u001b[0;32m    335\u001b[0m ):\n\u001b[0;32m    336\u001b[0m     \u001b[39mfrom\u001b[39;00m \u001b[39mtheano\u001b[39;00m\u001b[39m.\u001b[39;00m\u001b[39mgraph\u001b[39;00m\u001b[39m.\u001b[39;00m\u001b[39mnull_type\u001b[39;00m \u001b[39mimport\u001b[39;00m NullType\n",
      "File \u001b[1;32mc:\\Users\\Pranav\\AppData\\Local\\Programs\\Python\\Python310\\lib\\site-packages\\theano\\graph\\fg.py:383\u001b[0m, in \u001b[0;36mFunctionGraph.import_node\u001b[1;34m(self, apply_node, check, reason)\u001b[0m\n\u001b[0;32m    370\u001b[0m             \u001b[39mif\u001b[39;00m (\n\u001b[0;32m    371\u001b[0m                 var\u001b[39m.\u001b[39mowner \u001b[39mis\u001b[39;00m \u001b[39mNone\u001b[39;00m\n\u001b[0;32m    372\u001b[0m                 \u001b[39mand\u001b[39;00m \u001b[39mnot\u001b[39;00m \u001b[39misinstance\u001b[39m(var, Constant)\n\u001b[0;32m    373\u001b[0m                 \u001b[39mand\u001b[39;00m var \u001b[39mnot\u001b[39;00m \u001b[39min\u001b[39;00m \u001b[39mself\u001b[39m\u001b[39m.\u001b[39minputs\n\u001b[0;32m    374\u001b[0m             ):\n\u001b[0;32m    375\u001b[0m                 \u001b[39m# Standard error message\u001b[39;00m\n\u001b[0;32m    376\u001b[0m                 error_msg \u001b[39m=\u001b[39m (\n\u001b[0;32m    377\u001b[0m                     \u001b[39mf\u001b[39m\u001b[39m\"\u001b[39m\u001b[39mInput \u001b[39m\u001b[39m{\u001b[39;00m\u001b[39mint\u001b[39m(node\u001b[39m.\u001b[39minputs\u001b[39m.\u001b[39mindex(var))\u001b[39m}\u001b[39;00m\u001b[39m of the graph (indices start \u001b[39m\u001b[39m\"\u001b[39m\n\u001b[0;32m    378\u001b[0m                     \u001b[39mf\u001b[39m\u001b[39m\"\u001b[39m\u001b[39mfrom 0), used to compute \u001b[39m\u001b[39m{\u001b[39;00mnode\u001b[39m}\u001b[39;00m\u001b[39m, was not \u001b[39m\u001b[39m\"\u001b[39m\n\u001b[1;32m   (...)\u001b[0m\n\u001b[0;32m    381\u001b[0m                     \u001b[39m\"\u001b[39m\u001b[39mfor more information on this error.\u001b[39m\u001b[39m\"\u001b[39m\n\u001b[0;32m    382\u001b[0m                 )\n\u001b[1;32m--> 383\u001b[0m                 \u001b[39mraise\u001b[39;00m MissingInputError(error_msg, variable\u001b[39m=\u001b[39mvar)\n\u001b[0;32m    385\u001b[0m \u001b[39mfor\u001b[39;00m node \u001b[39min\u001b[39;00m new_nodes:\n\u001b[0;32m    386\u001b[0m     \u001b[39massert\u001b[39;00m node \u001b[39mnot\u001b[39;00m \u001b[39min\u001b[39;00m \u001b[39mself\u001b[39m\u001b[39m.\u001b[39mapply_nodes\n",
      "\u001b[1;31mMissingInputError\u001b[0m: Input 0 of the graph (indices start from 0), used to compute InplaceDimShuffle{x}(μ_0), was not provided and not given a value. Use the Theano flag exception_verbosity='high', for more information on this error."
     ]
    }
   ],
   "source": [
    "from pymc3 import fit\n",
    "\n",
    "with Temprature_model: \n",
    "    Temp_fit = fit(random_seed=RANDOM_SEED).sample(1000)"
   ]
  },
  {
   "cell_type": "code",
   "execution_count": null,
   "metadata": {},
   "outputs": [
    {
     "ename": "NameError",
     "evalue": "name 'Temp_fit' is not defined",
     "output_type": "error",
     "traceback": [
      "\u001b[1;31m---------------------------------------------------------------------------\u001b[0m",
      "\u001b[1;31mNameError\u001b[0m                                 Traceback (most recent call last)",
      "Cell \u001b[1;32mIn [69], line 3\u001b[0m\n\u001b[0;32m      1\u001b[0m \u001b[39mfrom\u001b[39;00m \u001b[39mpymc3\u001b[39;00m \u001b[39mimport\u001b[39;00m plot_posterior\n\u001b[1;32m----> 3\u001b[0m plot_posterior(Temp_fit[\u001b[39m100\u001b[39m:], \n\u001b[0;32m      4\u001b[0m                 var_names\u001b[39m=\u001b[39m[\u001b[39m'\u001b[39m\u001b[39mμ_0\u001b[39m\u001b[39m'\u001b[39m, \u001b[39m'\u001b[39m\u001b[39mμ_1\u001b[39m\u001b[39m'\u001b[39m, \u001b[39m'\u001b[39m\u001b[39mσ_0\u001b[39m\u001b[39m'\u001b[39m, \u001b[39m'\u001b[39m\u001b[39mσ_1\u001b[39m\u001b[39m'\u001b[39m, \u001b[39m'\u001b[39m\u001b[39mν_minus_one\u001b[39m\u001b[39m'\u001b[39m],\n\u001b[0;32m      5\u001b[0m                 color\u001b[39m=\u001b[39m\u001b[39m'\u001b[39m\u001b[39m#87ceeb\u001b[39m\u001b[39m'\u001b[39m)\n",
      "\u001b[1;31mNameError\u001b[0m: name 'Temp_fit' is not defined"
     ]
    }
   ],
   "source": [
    "from pymc3 import plot_posterior\n",
    "\n",
    "plot_posterior(Temp_fit[100:], \n",
    "                var_names=['μ_0', 'μ_1', 'σ_0', 'σ_1', 'ν'],\n",
    "                color='#87ceeb');"
   ]
  },
  {
   "cell_type": "code",
   "execution_count": null,
   "metadata": {},
   "outputs": [],
   "source": []
  }
 ],
 "metadata": {
  "kernelspec": {
   "display_name": "Python 3 (ipykernel)",
   "language": "python",
   "name": "python3"
  },
  "language_info": {
   "codemirror_mode": {
    "name": "ipython",
    "version": 3
   },
   "file_extension": ".py",
   "mimetype": "text/x-python",
   "name": "python",
   "nbconvert_exporter": "python",
   "pygments_lexer": "ipython3",
   "version": "3.9.12"
  },
  "vscode": {
   "interpreter": {
    "hash": "bed750ec10077b693c4028a2167569fca34734af31203687d48b42e262868471"
   }
  }
 },
 "nbformat": 4,
 "nbformat_minor": 2
}
